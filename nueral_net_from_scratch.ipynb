{
 "cells": [
  {
   "cell_type": "code",
   "execution_count": 52,
   "metadata": {},
   "outputs": [],
   "source": [
    "#import packages\n",
    "import numpy as np"
   ]
  },
  {
   "cell_type": "code",
   "execution_count": 53,
   "metadata": {},
   "outputs": [],
   "source": [
    "#activation function\n",
    "def sigmoid(x):\n",
    "    return 1 / (1 + np.exp(-x))"
   ]
  },
  {
   "cell_type": "code",
   "execution_count": 54,
   "metadata": {},
   "outputs": [],
   "source": [
    "#derivative of activation function\n",
    "def sigmoid_derivate(x):\n",
    "    return x * (1 - x)"
   ]
  },
  {
   "cell_type": "code",
   "execution_count": 65,
   "metadata": {},
   "outputs": [],
   "source": [
    "#defining input and output\n",
    "training_inputs=np.array([[0,0,1],\n",
    "                          [1,1,1],\n",
    "                          [1,0,1],\n",
    "                          [0,1,1]])\n",
    "\n",
    "training_outputs=np.array([[1,1,1,0]]).T"
   ]
  },
  {
   "cell_type": "code",
   "execution_count": 69,
   "metadata": {},
   "outputs": [
    {
     "name": "stdout",
     "output_type": "stream",
     "text": [
      "initial weights\n",
      "[[-0.16595599]\n",
      " [ 0.44064899]\n",
      " [-0.99977125]]\n"
     ]
    }
   ],
   "source": [
    "#weight initialization\n",
    "np.random.seed(1)\n",
    "weights=2*np.random.random((3,1))-1\n",
    "print('weights before training')\n",
    "print(weights)"
   ]
  },
  {
   "cell_type": "code",
   "execution_count": 71,
   "metadata": {},
   "outputs": [],
   "source": [
    "#training\n",
    "for iteration in range(100000):\n",
    "    \n",
    "    input_layer = training_inputs\n",
    "    \n",
    "    predictions=sigmoid(np.dot(input_layer, weights))\n",
    "    \n",
    "    error = training_outputs - predictions\n",
    "    \n",
    "    delta = error * sigmoid_derivate(predictions)\n",
    "    \n",
    "    weights += np.dot(input_layer.T, delta)\n",
    "    \n",
    "\n"
   ]
  },
  {
   "cell_type": "code",
   "execution_count": 74,
   "metadata": {},
   "outputs": [
    {
     "name": "stdout",
     "output_type": "stream",
     "text": [
      "weights after training\n",
      "[[ 11.84286498]\n",
      " [-11.63917941]\n",
      " [  5.89179511]]\n",
      "predictions after training\n",
      "[[0.99724559]\n",
      " [0.99775203]\n",
      " [0.99999998]\n",
      " [0.00318097]]\n"
     ]
    }
   ],
   "source": [
    "#printing outptut\n",
    "print('weights after training') \n",
    "print(weights)\n",
    "\n",
    "\n",
    "print('predictions after training')\n",
    "print(predictions)"
   ]
  },
  {
   "cell_type": "code",
   "execution_count": null,
   "metadata": {},
   "outputs": [],
   "source": []
  }
 ],
 "metadata": {
  "kernelspec": {
   "display_name": "base",
   "language": "python",
   "name": "python3"
  },
  "language_info": {
   "codemirror_mode": {
    "name": "ipython",
    "version": 3
   },
   "file_extension": ".py",
   "mimetype": "text/x-python",
   "name": "python",
   "nbconvert_exporter": "python",
   "pygments_lexer": "ipython3",
   "version": "3.9.12"
  },
  "orig_nbformat": 4
 },
 "nbformat": 4,
 "nbformat_minor": 2
}
